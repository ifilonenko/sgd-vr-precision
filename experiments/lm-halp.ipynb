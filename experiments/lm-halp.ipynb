{
 "cells": [
  {
   "cell_type": "code",
   "execution_count": 1,
   "metadata": {
    "collapsed": false
   },
   "outputs": [],
   "source": [
    "# Uncomment line below if LOAD_PATH returns only 2\n",
    "push!(LOAD_PATH,\"/Users/ilanfilonenko/.julia/v0.6/FixedPointNumbers\");\n",
    "# Uncomment line below if PyPlot isn't installed in you v0.6.0 .julia environment \n",
    "#   This system assumes usage of Python2.7 in your .julia environment\n",
    "# Pkg.add(\"PyPlot\")\n",
    "# LOAD_PATH"
   ]
  },
  {
   "cell_type": "code",
   "execution_count": 2,
   "metadata": {
    "collapsed": false
   },
   "outputs": [],
   "source": [
    "# Push local directory to get access to GradientModels\n",
    "push!(LOAD_PATH,pwd());"
   ]
  },
  {
   "cell_type": "code",
   "execution_count": 3,
   "metadata": {
    "collapsed": false
   },
   "outputs": [
    {
     "data": {
      "text/plain": [
       "4-element Array{Any,1}:\n",
       " \"/Applications/Julia-0.6.app/Contents/Resources/julia/local/share/julia/site/v0.6\"\n",
       " \"/Applications/Julia-0.6.app/Contents/Resources/julia/share/julia/site/v0.6\"      \n",
       " \"/Users/ilanfilonenko/.julia/v0.6/FixedPointNumbers\"                              \n",
       " \"/Users/ilanfilonenko/sgd-vr-precision/experiments\"                               "
      ]
     },
     "execution_count": 3,
     "metadata": {},
     "output_type": "execute_result"
    }
   ],
   "source": [
    "LOAD_PATH"
   ]
  },
  {
   "cell_type": "code",
   "execution_count": 4,
   "metadata": {
    "collapsed": false
   },
   "outputs": [
    {
     "name": "stderr",
     "output_type": "stream",
     "text": [
      "\u001b[1m\u001b[36mINFO: \u001b[39m\u001b[22m\u001b[36mRecompiling stale cache file /Users/ilanfilonenko/.julia/lib/v0.6/FixedPointNumbers.ji for module FixedPointNumbers.\n",
      "\u001b[39m\u001b[1m\u001b[36mINFO: \u001b[39m\u001b[22m\u001b[36mRecompiling stale cache file /Users/ilanfilonenko/.julia/lib/v0.6/PyPlot.ji for module PyPlot.\n",
      "\u001b[39m"
     ]
    }
   ],
   "source": [
    "using PyPlot"
   ]
  },
  {
   "cell_type": "code",
   "execution_count": 5,
   "metadata": {
    "collapsed": false
   },
   "outputs": [],
   "source": [
    "using GradientModels"
   ]
  },
  {
   "cell_type": "code",
   "execution_count": 6,
   "metadata": {
    "collapsed": false
   },
   "outputs": [],
   "source": [
    "using FixedPointNumbers"
   ]
  },
  {
   "cell_type": "code",
   "execution_count": 7,
   "metadata": {
    "collapsed": false
   },
   "outputs": [],
   "source": [
    "# Data Generation\n",
    "srand(424242)\n",
    "d = 20;\n",
    "N = 10000;\n",
    "wtrue = randn(d);\n",
    "wtrue = d^2 * wtrue / norm(wtrue);\n",
    "X = randn(N, d);\n",
    "X ./= sqrt.(sum(X.^2, 2));\n",
    "Y = (1 ./ (1 + exp.(-X * wtrue)) .>= rand(N)) * 2 - 1;\n",
    "Y = float(Y)\n",
    "sigma = 0.001;\n",
    "mu = sigma;\n",
    "M = 1;\n",
    "# find the true minimum\n",
    "function newton_logreg(w0, X, Y, sigma, niters)\n",
    "    N = size(X, 1);\n",
    "    d = size(X, 2);\n",
    "    w = w0;\n",
    "    for k = 1:niters\n",
    "        g = -X' * (Y ./ (1 + exp.(Y .* (X * w)))) + N * sigma * w;\n",
    "        H = X' * ((1 ./ ((1 + exp.(Y .* (X * w))) .* (1 + exp.(-Y .* (X * w))))) .* X) + N * sigma * eye(d);\n",
    "        w = w - H \\ g;\n",
    "    end\n",
    "    return w\n",
    "end\n",
    "wopt = newton_logreg(wtrue, X, Y, sigma, 10);"
   ]
  },
  {
   "cell_type": "markdown",
   "metadata": {},
   "source": [
    "$$\\alpha_t = \\frac{2 \\mu \\| w_0 - w^* \\|^2}{4 M + \\mu^2 \\| w_0 - w^* \\|^2 t}$$\n",
    "\n",
    "$$\\alpha_t = \\frac{\\alpha_0}{1 + \\gamma t}$$\n",
    "$$\\alpha_0 = \\frac{2 \\mu \\| w_0 - w^* \\|^2}{4 M}$$"
   ]
  },
  {
   "cell_type": "code",
   "execution_count": 8,
   "metadata": {
    "collapsed": true
   },
   "outputs": [],
   "source": [
    "w0 = randn(d);"
   ]
  },
  {
   "cell_type": "code",
   "execution_count": 9,
   "metadata": {
    "collapsed": false
   },
   "outputs": [],
   "source": [
    "alpha0 = 2 * mu * norm(w0 - wopt)^2 / (4 * M);"
   ]
  },
  {
   "cell_type": "markdown",
   "metadata": {},
   "source": [
    "Optimal step size from our analysis was\n",
    "$$\\alpha = \\frac{\\mu}{5 L^2 e}$$\n",
    "and optimal epoch length was\n",
    "$$T = \\frac{5 L^2 e}{\\mu^2}$$."
   ]
  },
  {
   "cell_type": "markdown",
   "metadata": {},
   "source": [
    "Must generate a training set at random from the generative model associated with logistic regression.\n",
    "This generative model is, for label $y \\in \\{-1,1\\}$, features $x \\in \\mathbb{R}^d$ and model $w \\in \\mathbb{R}^d$,\n",
    "\n",
    "$$\\mathbf{P}_w(y | x) = \\frac{1}{1 + \\exp(-y x^T w)}.$$\n",
    "\n",
    "Since $$\\phi_{k,i} = x_i^T w.$$\n",
    "\n",
    "$$p(\\phi) = \\prod_{i=1}^N \\frac{1}{1 + \\exp(y_i \\phi_{k,i})}$$\n",
    "\n",
    "and so maximizing this is equivalent to maximizing the log likelihood\n",
    "\n",
    "$$\\log p(\\phi) = -\\sum_{i=1}^N \\log \\left( 1 + \\exp(y_i \\phi_{k,i}) \\right).$$\n",
    "\n",
    "The gradient of this is\n",
    "\n",
    "$$\\nabla \\log p(\\phi) = \\sum_{i=1}^N \\frac{y_i}{1 + \\exp(y_i \\phi_{k,i})}.$$\n",
    "\n",
    "Anyway, we can see that this corresponds to logistic regression."
   ]
  },
  {
   "cell_type": "code",
   "execution_count": 10,
   "metadata": {
    "collapsed": true
   },
   "outputs": [],
   "source": [
    "log_loss = ((p,i,X,Y) -> log(1 + exp.(-Y[i] * p[i])));\n",
    "g_log_loss = ((p,i,X,Y) -> (Y[i] / (1 + exp.(-Y[i] * p[i]))));"
   ]
  },
  {
   "cell_type": "code",
   "execution_count": 30,
   "metadata": {
    "collapsed": false
   },
   "outputs": [],
   "source": [
    "R = Scaled{Int16,15,1./12800,Randomized};\n",
    "blue = 16;\n",
    "purple = 8;\n",
    "mu = 0.01;"
   ]
  },
  {
   "cell_type": "code",
   "execution_count": 31,
   "metadata": {
    "collapsed": false
   },
   "outputs": [
    {
     "data": {
      "text/plain": [
       "([2177.34, 2575.56, 1812.91, 3654.32, -1256.55, -2313.02, 3397.16, 315.835, 1164.87, 2891.95, 844.795, -422.434, 1225.19, 2204.69, -2045.54, -1857.03, 954.076, 1787.25, 452.125, 196.238], [97.794, 184.756, 272.407, 359.886, 447.363, 535.209, 619.238, 707.361, 795.169, 884.012  …  8547.72, 8550.94, 8554.38, 8557.42, 8562.21, 8565.19, 8569.16, 8573.1, 8576.79, 8580.24])"
      ]
     },
     "execution_count": 31,
     "metadata": {},
     "output_type": "execute_result"
    }
   ],
   "source": [
    "(w,dto_svrg) = LMHALP{alpha0,100,2,R}(w0,wopt,X,Y,blue,purple,mu,g_log_loss)"
   ]
  },
  {
   "cell_type": "code",
   "execution_count": 34,
   "metadata": {
    "collapsed": false
   },
   "outputs": [
    {
     "data": {
      "image/png": "[encoded data removed]",
      "text/plain": [
       "PyPlot.Figure(PyObject <matplotlib.figure.Figure object at 0x12df7fe10>)"
      ]
     },
     "metadata": {},
     "output_type": "display_data"
    },
    {
     "data": {
      "text/plain": [
       "1-element Array{PyCall.PyObject,1}:\n",
       " PyObject <matplotlib.lines.Line2D object at 0x13b163610>"
      ]
     },
     "execution_count": 34,
     "metadata": {},
     "output_type": "execute_result"
    }
   ],
   "source": [
    "plot(dto_svrg)"
   ]
  },
  {
   "cell_type": "code",
   "execution_count": null,
   "metadata": {
    "collapsed": true
   },
   "outputs": [],
   "source": []
  }
 ],
 "metadata": {
  "kernelspec": {
   "display_name": "Julia 0.6.0",
   "language": "julia",
   "name": "julia-0.6"
  },
  "language_info": {
   "file_extension": ".jl",
   "mimetype": "application/julia",
   "name": "julia",
   "version": "0.6.0"
  }
 },
 "nbformat": 4,
 "nbformat_minor": 2
}
