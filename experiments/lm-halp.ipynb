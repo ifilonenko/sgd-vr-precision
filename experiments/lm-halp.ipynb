{
 "cells": [
  {
   "cell_type": "code",
   "execution_count": 1,
   "metadata": {
    "collapsed": false
   },
   "outputs": [
    {
     "name": "stderr",
     "output_type": "stream",
     "text": [
      "\u001b[1m\u001b[36mINFO: \u001b[39m\u001b[22m\u001b[36mRecompiling stale cache file /Users/ilanfilonenko/.julia/lib/v0.6/FixedPointNumbers.ji for module FixedPointNumbers.\n",
      "\u001b[39m\u001b[1m\u001b[36mINFO: \u001b[39m\u001b[22m\u001b[36mRecompiling stale cache file /Users/ilanfilonenko/.julia/lib/v0.6/ColorTypes.ji for module ColorTypes.\n",
      "\u001b[39m\u001b[1m\u001b[36mINFO: \u001b[39m\u001b[22m\u001b[36mRecompiling stale cache file /Users/ilanfilonenko/.julia/lib/v0.6/Colors.ji for module Colors.\n",
      "\u001b[39m\u001b[1m\u001b[36mINFO: \u001b[39m\u001b[22m\u001b[36mRecompiling stale cache file /Users/ilanfilonenko/.julia/lib/v0.6/PyPlot.ji for module PyPlot.\n",
      "\u001b[39m"
     ]
    }
   ],
   "source": [
    "#   Uncomment line below if PyPlot isn't installed in you v0.6.0 .julia environment \n",
    "#   This system assumes usage of Python2.7 in your .julia environment\n",
    "# Pkg.add(\"PyPlot\")\n",
    "using PyPlot"
   ]
  },
  {
   "cell_type": "code",
   "execution_count": 2,
   "metadata": {
    "collapsed": false
   },
   "outputs": [
    {
     "data": {
      "text/plain": [
       "3-element Array{Any,1}:\n",
       " \"/Applications/Julia-0.6.app/Contents/Resources/julia/local/share/julia/site/v0.6\"\n",
       " \"/Applications/Julia-0.6.app/Contents/Resources/julia/share/julia/site/v0.6\"      \n",
       " \"/Users/ilanfilonenko/.julia/v0.6/FixedPointNumbers\"                              "
      ]
     },
     "execution_count": 2,
     "metadata": {},
     "output_type": "execute_result"
    }
   ],
   "source": [
    "push!(LOAD_PATH,\"/Users/ilanfilonenko/.julia/v0.6/FixedPointNumbers\")"
   ]
  },
  {
   "cell_type": "code",
   "execution_count": 3,
   "metadata": {
    "collapsed": false
   },
   "outputs": [
    {
     "data": {
      "text/plain": [
       "3-element Array{Any,1}:\n",
       " \"/Applications/Julia-0.6.app/Contents/Resources/julia/local/share/julia/site/v0.6\"\n",
       " \"/Applications/Julia-0.6.app/Contents/Resources/julia/share/julia/site/v0.6\"      \n",
       " \"/Users/ilanfilonenko/.julia/v0.6/FixedPointNumbers\"                              "
      ]
     },
     "execution_count": 3,
     "metadata": {},
     "output_type": "execute_result"
    }
   ],
   "source": [
    "LOAD_PATH"
   ]
  },
  {
   "cell_type": "code",
   "execution_count": 4,
   "metadata": {
    "collapsed": false
   },
   "outputs": [],
   "source": [
    "using FixedPointNumbers"
   ]
  },
  {
   "cell_type": "code",
   "execution_count": 5,
   "metadata": {
    "collapsed": false
   },
   "outputs": [],
   "source": [
    "# generate the data\n",
    "srand(424242)\n",
    "d = 20;\n",
    "N = 10000;\n",
    "wtrue = randn(d);\n",
    "wtrue = d^2 * wtrue / norm(wtrue);\n",
    "X = randn(N, d);\n",
    "X ./= sqrt.(sum(X.^2, 2));\n",
    "Y = (1 ./ (1 + exp.(-X * wtrue)) .>= rand(N)) * 2 - 1;\n",
    "sigma = 0.001;\n",
    "mu = sigma;\n",
    "L = sigma + 0.25;\n",
    "M = 1;"
   ]
  },
  {
   "cell_type": "markdown",
   "metadata": {},
   "source": [
    "What is the optimal step size for SGD under these conditions?\n",
    "Well, from Lecture 2, we had\n",
    "$$\\alpha_t = \\frac{2 \\mu \\| w_0 - w^* \\|^2}{4 M + \\mu^2 \\| w_0 - w^* \\|^2 t}$$\n",
    "or\n",
    "$$\\alpha_t = \\frac{\\alpha_0}{1 + \\gamma t}$$\n",
    "where\n",
    "$$\\alpha_0 = \\frac{2 \\mu \\| w_0 - w^* \\|^2}{4 M}$$\n",
    "and\n",
    "$$\\gamma = \\frac{\\mu^2 \\| w_0 - w^* \\|^2}{4 M}.$$"
   ]
  },
  {
   "cell_type": "code",
   "execution_count": 6,
   "metadata": {
    "collapsed": true
   },
   "outputs": [],
   "source": [
    "w0 = randn(d);"
   ]
  },
  {
   "cell_type": "code",
   "execution_count": 7,
   "metadata": {
    "collapsed": false
   },
   "outputs": [
    {
     "data": {
      "text/plain": [
       "sgd_logreg (generic function with 1 method)"
      ]
     },
     "execution_count": 7,
     "metadata": {},
     "output_type": "execute_result"
    }
   ],
   "source": [
    "function sgd_logreg(w0, alpha0, gamma, X, Y, sigma, niters, wopt)\n",
    "    w = w0\n",
    "    (N, d) = size(X)\n",
    "    dist_to_optimum = zeros(niters)\n",
    "    for k = 1:niters\n",
    "        alpha = alpha0 / (1 + gamma * (k-1));\n",
    "        i = rand(1:N)\n",
    "        xi = X[i,:];\n",
    "        yi = Y[i];\n",
    "        w = (1 - alpha * sigma) * w + alpha * xi * yi / (1 + exp(yi * dot(xi, w)));\n",
    "        dist_to_optimum[k] = norm(w - wopt);\n",
    "    end\n",
    "    return (w, dist_to_optimum);\n",
    "end"
   ]
  },
  {
   "cell_type": "code",
   "execution_count": 8,
   "metadata": {
    "collapsed": false
   },
   "outputs": [
    {
     "data": {
      "text/plain": [
       "newton_logreg (generic function with 1 method)"
      ]
     },
     "execution_count": 8,
     "metadata": {},
     "output_type": "execute_result"
    }
   ],
   "source": [
    "# find the true minimum\n",
    "function newton_logreg(w0, X, Y, sigma, niters)\n",
    "    N = size(X, 1);\n",
    "    d = size(X, 2);\n",
    "    w = w0;\n",
    "    for k = 1:niters\n",
    "        g = -X' * (Y ./ (1 + exp.(Y .* (X * w)))) + N * sigma * w;\n",
    "        H = X' * ((1 ./ ((1 + exp.(Y .* (X * w))) .* (1 + exp.(-Y .* (X * w))))) .* X) + N * sigma * eye(d);\n",
    "        w = w - H \\ g;\n",
    "        println(\"gradient norm: $(norm(g))\")\n",
    "    end\n",
    "    return w\n",
    "end"
   ]
  },
  {
   "cell_type": "code",
   "execution_count": 156,
   "metadata": {
    "collapsed": false
   },
   "outputs": [
    {
     "name": "stdout",
     "output_type": "stream",
     "text": [
      "gradient norm: 3999.9774577369785\n",
      "gradient norm: 896.3972587628688\n",
      "gradient norm: 233.8971551211784\n",
      "gradient norm: 59.37077071898397\n",
      "gradient norm: 5.959623034633464\n",
      "gradient norm: 0.06910877657917236\n",
      "gradient norm: 9.433183373722613e-6\n",
      "gradient norm: 2.815476558090761e-13\n",
      "gradient norm: 1.1087031992548823e-13\n",
      "gradient norm: 5.856676381288377e-14\n"
     ]
    }
   ],
   "source": [
    "wopt = newton_logreg(wtrue, X, Y, sigma, 10);"
   ]
  },
  {
   "cell_type": "code",
   "execution_count": 157,
   "metadata": {
    "collapsed": false
   },
   "outputs": [
    {
     "data": {
      "text/plain": [
       "20-element Array{Float64,1}:\n",
       " -4.07134 \n",
       " -3.97299 \n",
       " -2.51662 \n",
       " -5.31225 \n",
       "  2.39247 \n",
       "  3.64471 \n",
       " -3.25345 \n",
       "  0.356133\n",
       " -2.46952 \n",
       " -4.30811 \n",
       " -1.27614 \n",
       " -1.91754 \n",
       " -2.94092 \n",
       " -2.00259 \n",
       "  0.760365\n",
       "  2.40765 \n",
       " -4.04986 \n",
       " -1.99684 \n",
       " -0.116533\n",
       " -0.125707"
      ]
     },
     "execution_count": 157,
     "metadata": {},
     "output_type": "execute_result"
    }
   ],
   "source": [
    "wopt"
   ]
  },
  {
   "cell_type": "code",
   "execution_count": 124,
   "metadata": {
    "collapsed": false
   },
   "outputs": [],
   "source": [
    "alpha0 = 2 * mu * norm(w0 - wopt)^2 / (4 * M);\n",
    "gamma = mu^2 * norm(w0 - wopt)^2 / (4 * M);"
   ]
  },
  {
   "cell_type": "code",
   "execution_count": null,
   "metadata": {
    "collapsed": true
   },
   "outputs": [],
   "source": [
    "srand(123456);\n",
    "(w, dto) = sgd_logreg(w0, alpha0, gamma, X, Y, sigma, 50000, wopt);"
   ]
  },
  {
   "cell_type": "code",
   "execution_count": null,
   "metadata": {
    "collapsed": false
   },
   "outputs": [],
   "source": [
    "plot(dto)\n",
    "xlabel(\"iteration\");\n",
    "ylabel(\"distance to optimum\");"
   ]
  },
  {
   "cell_type": "code",
   "execution_count": null,
   "metadata": {
    "collapsed": false
   },
   "outputs": [],
   "source": [
    "plot(dto_svrg)"
   ]
  },
  {
   "cell_type": "code",
   "execution_count": null,
   "metadata": {
    "collapsed": false
   },
   "outputs": [],
   "source": []
  },
  {
   "cell_type": "code",
   "execution_count": 118,
   "metadata": {
    "collapsed": false
   },
   "outputs": [
    {
     "data": {
      "text/plain": [
       "svrg (generic function with 1 method)"
      ]
     },
     "execution_count": 118,
     "metadata": {},
     "output_type": "execute_result"
    }
   ],
   "source": [
    "function svrg(w0, alpha, X, Y, sigma, niters, nepochs, wopt)\n",
    "    w = w0\n",
    "    (N, d) = size(X)\n",
    "    dist_to_optimum = zeros(niters * nepochs)\n",
    "    for epi = 1:nepochs\n",
    "        wtilde = w;\n",
    "        gtilde = X' * (Y ./ (1 + exp.(Y .* (X * wtilde)))) / N - sigma * wtilde;\n",
    "        for k = 1:niters\n",
    "            i = rand(1:N)\n",
    "            xi = X[i,:];\n",
    "            yi = Y[i];\n",
    "            w = w + alpha * (xi * yi / (1 + exp.(yi * dot(xi, w))) - sigma * w - xi * yi / (1 + exp(yi * dot(xi, wtilde))) + sigma * wtilde + gtilde);\n",
    "            dist_to_optimum[k + (epi-1)*niters] = norm(w - wopt);\n",
    "        end\n",
    "    end\n",
    "    return (w, dist_to_optimum);\n",
    "end"
   ]
  },
  {
   "cell_type": "code",
   "execution_count": null,
   "metadata": {
    "collapsed": false
   },
   "outputs": [],
   "source": [
    "srand(123456);\n",
    "(w2, dto2) = sgd_logreg(w0, 2*alpha0, 4*gamma, X, Y, sigma, 50000, wopt);\n",
    "srand(123456);\n",
    "(w2, dto3) = sgd_logreg(w0, 3*alpha0, 9*gamma, X, Y, sigma, 50000, wopt);\n",
    "srand(123456);\n",
    "# (w, dto_svrg) = svrg(w0, alpha, X, Y, sigma, T, K, wopt);"
   ]
  },
  {
   "cell_type": "code",
   "execution_count": null,
   "metadata": {
    "collapsed": false
   },
   "outputs": [],
   "source": [
    "semilogy(dto; label = \"optimal step size\")\n",
    "semilogy(dto2; label = \"2x optimal\")\n",
    "semilogy(dto3; label = \"3x optimal\")\n",
    "semilogy(dto_svrg; label = \"SVRG\")\n",
    "xlabel(\"iteration\");\n",
    "ylabel(\"distance to optimum\");\n",
    "legend();"
   ]
  },
  {
   "cell_type": "code",
   "execution_count": null,
   "metadata": {
    "collapsed": false
   },
   "outputs": [],
   "source": [
    "(w, dto_svrg) = svrg(w0, alpha0, X, Y, sigma, 100, 2, wopt);"
   ]
  },
  {
   "cell_type": "markdown",
   "metadata": {},
   "source": [
    "Must generate a training set at random from the generative model associated with logistic regression.\n",
    "This generative model is, for label $y \\in \\{-1,1\\}$, features $x \\in \\mathbb{R}^d$ and model $w \\in \\mathbb{R}^d$,\n",
    "\n",
    "$$\\mathbf{P}_w(y | x) = \\frac{1}{1 + \\exp(-y x^T w)}.$$\n",
    "\n",
    "Since $$\\phi_{k,i} = x_i^T w.$$\n",
    "\n",
    "$$p(\\phi) = \\prod_{i=1}^N \\frac{1}{1 + \\exp(y_i \\phi_{k,i})}$$\n",
    "\n",
    "and so maximizing this is equivalent to maximizing the log likelihood\n",
    "\n",
    "$$\\log p(\\phi) = -\\sum_{i=1}^N \\log \\left( 1 + \\exp(y_i \\phi_{k,i}) \\right).$$\n",
    "\n",
    "The gradient of this is\n",
    "\n",
    "$$\\nabla \\log p(\\phi) = \\sum_{i=1}^N \\frac{y_i}{1 + \\exp(y_i \\phi_{k,i})}.$$\n",
    "\n",
    "Anyway, we can see that this corresponds to logistic regression."
   ]
  },
  {
   "cell_type": "markdown",
   "metadata": {},
   "source": [
    "Optimal step size from our analysis was\n",
    "$$\\alpha = \\frac{\\mu}{5 L^2 e}$$\n",
    "and optimal epoch length was\n",
    "$$T = \\frac{5 L^2 e}{\\mu^2}$$."
   ]
  },
  {
   "cell_type": "code",
   "execution_count": 10,
   "metadata": {
    "collapsed": true
   },
   "outputs": [],
   "source": [
    "alpha = mu / (5 * L^2 * e);\n",
    "T = Int64(ceil(5 * L^2 * e / (mu^2)));\n",
    "K = 10;"
   ]
  },
  {
   "cell_type": "code",
   "execution_count": 92,
   "metadata": {
    "collapsed": false
   },
   "outputs": [],
   "source": [
    "log_loss = ((p,i) -> log(1 + exp.(-Y[i] * p[i])));\n",
    "g_log_loss = ((p,i) -> (Y[i] / (1 + exp.(-Y[i] * p[i]))));"
   ]
  },
  {
   "cell_type": "code",
   "execution_count": null,
   "metadata": {
    "collapsed": false
   },
   "outputs": [],
   "source": [
    "phi_0 = map(i -> X[i,:]'*w0, collect(1:N));\n",
    "# a = g_log_loss(phi_0,1)*X[1,:]\n",
    "# b = g_log_loss(phi_0,2)*X[2,:]"
   ]
  },
  {
   "cell_type": "code",
   "execution_count": null,
   "metadata": {
    "collapsed": false
   },
   "outputs": [],
   "source": [
    "red_box = Scaled{Int16,15,1./1000.0,Randomized}"
   ]
  },
  {
   "cell_type": "code",
   "execution_count": null,
   "metadata": {
    "collapsed": false
   },
   "outputs": [],
   "source": [
    "g = mapreduce(i->g_log_loss(phi_0,i)*X[i,:], +, collect(1:N));\n",
    "s = norm(g)./(mu*(2^(8-1)-1))"
   ]
  },
  {
   "cell_type": "code",
   "execution_count": null,
   "metadata": {
    "collapsed": false
   },
   "outputs": [],
   "source": [
    "s1 = 7438.767705355814\n",
    "s2 = 0.11350658730096151\n",
    "log2(s1/s2)\n",
    "subdomain(Scaled{Int8,7,s1,Randomized},Scaled{Int32,22,s2,Randomized})"
   ]
  },
  {
   "cell_type": "code",
   "execution_count": null,
   "metadata": {
    "collapsed": false
   },
   "outputs": [],
   "source": [
    "zeros(Scaled{Int8,7,1.0,Randomized},5)"
   ]
  },
  {
   "cell_type": "code",
   "execution_count": 141,
   "metadata": {
    "collapsed": false
   },
   "outputs": [
    {
     "data": {
      "text/plain": [
       "lm_halp (generic function with 1 method)"
      ]
     },
     "execution_count": 141,
     "metadata": {},
     "output_type": "execute_result"
    }
   ],
   "source": [
    "bit_dict = Dict(8 => Int8, 16 => Int16, 32 => Int32, 64 => Int64)\n",
    "function lm_halp(w0, alpha, X, Y, T, K, wopt, mu, b, \n",
    "    r_b,r_s,p_b,grad_l)\n",
    "    #######################\n",
    "    # General function for LM-HALP\n",
    "    #\n",
    "    #\n",
    "    #\n",
    "    #\n",
    "    #######################\n",
    "    w = w0 # initializing w with initial iterate w0\n",
    "    (N, d) = size(X)\n",
    "    z = zeros(d) # initializing z in full precision\n",
    "    dist_to_optimum = zeros(T*K)\n",
    "    s = 1.0\n",
    "    blue_box = Float64\n",
    "    red_box = Scaled{bit_dict[r_b],r_b-1,r_s,Randomized}\n",
    "    X = convert(Array{red_box}, X)\n",
    "    for k = 1:K\n",
    "        w = w + z;\n",
    "        println(\"Iteration($k): $(norm(w-wopt))\")\n",
    "        phi = map(i -> X[i,:]'*w, 1:N)\n",
    "        gtilde = mapreduce(i->grad_l(phi,i)*X[i,:], +, 1:N)\n",
    "        s = norm(gtilde)/(mu*(2^(b-1)-1))\n",
    "        blue_box = Scaled{bit_dict[b],b-1,s,Randomized}\n",
    "        p_s = (s./r_s)*2.0^(b-r_b-p_b)\n",
    "        purple_box = Scaled{bit_dict[p_b],p_b-1,p_s,Randomized}\n",
    "        green_box = red_box*purple_box\n",
    "        assert(subdomain(blue_box,green_box))\n",
    "        htilde = convert(Array{green_box}, alpha*gtilde)\n",
    "        z = zeros(blue_box,d)\n",
    "        for t = 1:T\n",
    "            i = rand(1:N)\n",
    "            inner_l = grad_l((phi+X[i,:]'*z),i)\n",
    "            inner_purple = alpha.*(inner_l-grad_l(phi,i))\n",
    "            i_g = convert(Array{green_box},purple_box(inner_purple).*X[i,:])\n",
    "            z = convert(Array{green_box}, float(z))\n",
    "            z = convert(Array{blue_box}, float(z - i_g - htilde))\n",
    "            dist_to_optimum[t + (k-1)*T] = norm(w+z - wopt);\n",
    "        end\n",
    "    end\n",
    "    return (w, dist_to_optimum);\n",
    "end"
   ]
  },
  {
   "cell_type": "code",
   "execution_count": 142,
   "metadata": {
    "collapsed": false
   },
   "outputs": [
    {
     "data": {
      "text/plain": [
       "856273"
      ]
     },
     "execution_count": 142,
     "metadata": {},
     "output_type": "execute_result"
    }
   ],
   "source": [
    "T"
   ]
  },
  {
   "cell_type": "code",
   "execution_count": 154,
   "metadata": {
    "collapsed": false
   },
   "outputs": [
    {
     "name": "stdout",
     "output_type": "stream",
     "text": [
      "Iteration(1): 12.947623679424868\n",
      "Iteration(2): 50.81255414264946\n",
      "Iteration(3): 50.81255414264946\n",
      "Iteration(4): 68.52151020193435\n",
      "Iteration(5): 68.52151020193435\n"
     ]
    }
   ],
   "source": [
    "srand(123456);\n",
    "(w, dto_lm_halp) = lm_halp(w0, alpha0/1000, X, Y, 100, 5, wopt, mu, 16, 32, 1./128000, 16, \n",
    "g_log_loss);\n",
    "(w, dto_svrg) = svrg(w0, alpha0, X, Y, sigma, 100, 2, wopt);"
   ]
  },
  {
   "cell_type": "code",
   "execution_count": 155,
   "metadata": {
    "collapsed": false
   },
   "outputs": [
    {
     "data": {
      "image/png": "[encoded data removed]",
      "text/plain": [
       "PyPlot.Figure(PyObject <matplotlib.figure.Figure object at 0x12c01cf90>)"
      ]
     },
     "metadata": {},
     "output_type": "display_data"
    }
   ],
   "source": [
    "plot(dto_lm_halp)\n",
    "plot(dto_svrg)\n",
    "xlabel(\"iteration\");\n",
    "ylabel(\"distance to optimum\");"
   ]
  },
  {
   "cell_type": "code",
   "execution_count": 83,
   "metadata": {
    "collapsed": false
   },
   "outputs": [
    {
     "data": {
      "image/png": "[encoded data removed]",
      "text/plain": [
       "PyPlot.Figure(PyObject <matplotlib.figure.Figure object at 0x141b006d0>)"
      ]
     },
     "metadata": {},
     "output_type": "display_data"
    }
   ],
   "source": [
    "semilogy(dto_lm_halp);"
   ]
  },
  {
   "cell_type": "code",
   "execution_count": null,
   "metadata": {
    "collapsed": false
   },
   "outputs": [],
   "source": [
    "bit_dict[8]"
   ]
  },
  {
   "cell_type": "code",
   "execution_count": null,
   "metadata": {
    "collapsed": false
   },
   "outputs": [],
   "source": [
    "time1 = @timed (w, dto_svrg) = svrg(w0, alpha, X, Y, sigma, T, K, wopt);"
   ]
  },
  {
   "cell_type": "code",
   "execution_count": null,
   "metadata": {
    "collapsed": true
   },
   "outputs": [],
   "source": [
    "time2 = @timed (w2, dto_svrg2) = svrg(w0, 3*alpha, X, Y, sigma, Int64(ceil(T)), K, wopt);"
   ]
  },
  {
   "cell_type": "code",
   "execution_count": null,
   "metadata": {
    "collapsed": false
   },
   "outputs": [],
   "source": [
    "semilogy(dto_svrg; label = \"optimal\", color = \"blue\");\n",
    "semilogy(dto_svrg2; label = \"3x step size\", color = \"red\");\n",
    "xlabel(\"inner iteration\")\n",
    "ylabel(\"distance to optimum\")\n",
    "legend();"
   ]
  },
  {
   "cell_type": "code",
   "execution_count": null,
   "metadata": {
    "collapsed": false
   },
   "outputs": [],
   "source": [
    "semilogy(collect(1:length(dto_svrg)) / length(dto_svrg) * time1[2], dto_svrg; label = \"optimal\", color = \"blue\");\n",
    "semilogy(collect(1:length(dto_svrg2)) / length(dto_svrg2) * time2[2], dto_svrg2; label = \"3x step size\", color = \"red\");\n",
    "xlabel(\"wall clock time (seconds)\")\n",
    "ylabel(\"distance to optimum\")\n",
    "legend();"
   ]
  },
  {
   "cell_type": "code",
   "execution_count": null,
   "metadata": {
    "collapsed": true
   },
   "outputs": [],
   "source": [
    "srand(123456);\n",
    "time3 = @timed (w3, dto_svrg3) = svrg(w0, 3.0 * alpha, X, Y, sigma, Int64(ceil(T / 2)), K, wopt);"
   ]
  },
  {
   "cell_type": "code",
   "execution_count": null,
   "metadata": {
    "collapsed": false
   },
   "outputs": [],
   "source": [
    "semilogy(dto_svrg2; label = \"3x step size\", color = \"red\");\n",
    "semilogy(dto_svrg3; label = \"50% epoch, 3x step size\", color = \"green\");\n",
    "xlabel(\"inner iteration\")\n",
    "ylabel(\"distance to optimum\")\n",
    "legend();"
   ]
  },
  {
   "cell_type": "code",
   "execution_count": null,
   "metadata": {
    "collapsed": false
   },
   "outputs": [],
   "source": [
    "semilogy(collect(1:length(dto_svrg2)) / length(dto_svrg2) * time2[2], dto_svrg2; label = \"3x step size\", color = \"red\");\n",
    "semilogy(collect(1:length(dto_svrg3)) / length(dto_svrg3) * time3[2], dto_svrg3; label = \"50% epoch, 3x step size\", color = \"green\");\n",
    "xlabel(\"wall clock time (seconds)\")\n",
    "ylabel(\"distance to optimum\")\n",
    "legend();"
   ]
  }
 ],
 "metadata": {
  "kernelspec": {
   "display_name": "Julia 0.6.0",
   "language": "julia",
   "name": "julia-0.6"
  },
  "language_info": {
   "file_extension": ".jl",
   "mimetype": "application/julia",
   "name": "julia",
   "version": "0.6.0"
  }
 },
 "nbformat": 4,
 "nbformat_minor": 2
}
