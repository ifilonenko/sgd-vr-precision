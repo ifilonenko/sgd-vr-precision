{
 "cells": [
  {
   "cell_type": "code",
   "execution_count": 469,
   "metadata": {
    "collapsed": false
   },
   "outputs": [],
   "source": [
    "# To being please install PyPlot by uncomment the line below\n",
    "# Pkg.add(\"PyPlot\")\n",
    "using PyPlot\n",
    "srand(4242); # Reseed the random number generator with 4242"
   ]
  },
  {
   "cell_type": "markdown",
   "metadata": {},
   "source": [
    "For these examples we will be using the convex optimization function $ f(x) = \\frac{1}{2} x^2 $ because the gradient is simply $ f(x) = x $ as such the function is as follows:"
   ]
  },
  {
   "cell_type": "code",
   "execution_count": 470,
   "metadata": {
    "collapsed": false
   },
   "outputs": [
    {
     "name": "stderr",
     "output_type": "stream",
     "text": [
      "WARNING: Method definition grad_f(Any) in module Main at In[254]:2 overwritten at In[470]:2.\n"
     ]
    },
    {
     "data": {
      "text/plain": [
       "grad_f (generic function with 1 method)"
      ]
     },
     "execution_count": 470,
     "metadata": {},
     "output_type": "execute_result"
    }
   ],
   "source": [
    "function grad_f(x)\n",
    "    return x\n",
    "end"
   ]
  },
  {
   "cell_type": "markdown",
   "metadata": {},
   "source": [
    "Suppose that our samples are of the form\n",
    "$$\\tilde f(x) = \\frac{1}{2} (x + z)^2$$\n",
    "where $z \\sim N(0,1)$ is a standard Gaussian random variable. Then\n",
    "$$ \\nabla \\tilde f(x) = x + z $$\n",
    "As such with each step the simplified SGD function would be:\n",
    "$$x_{t+1} = x_t-\\alpha\\nabla \\tilde f(x_t)$$"
   ]
  },
  {
   "cell_type": "code",
   "execution_count": 471,
   "metadata": {
    "collapsed": false
   },
   "outputs": [
    {
     "name": "stderr",
     "output_type": "stream",
     "text": [
      "WARNING: Method definition sample_grad_f(Any) in module Main at In[255]:3 overwritten at In[471]:3.\n"
     ]
    },
    {
     "data": {
      "text/plain": [
       "sample_grad_f (generic function with 1 method)"
      ]
     },
     "execution_count": 471,
     "metadata": {},
     "output_type": "execute_result"
    }
   ],
   "source": [
    "function sample_grad_f(x)\n",
    "    # Sample between (0,1)\n",
    "    return x + randn(length(x)) / sqrt(length(x))\n",
    "end"
   ]
  },
  {
   "cell_type": "code",
   "execution_count": 472,
   "metadata": {
    "collapsed": false
   },
   "outputs": [
    {
     "name": "stderr",
     "output_type": "stream",
     "text": [
      "WARNING: Method definition gradient_descent(Any, Any, Any) in module Main at In[367]:2 overwritten at In[472]:2.\n",
      "WARNING: Method definition stochastic_gradient_descent(Any, Any, Any) in module Main at In[367]:12 overwritten at In[472]:12.\n",
      "WARNING: Method definition stochastic_gradient_descent_until(Any, Any, Any, Any) in module Main at In[367]:22 overwritten at In[472]:22.\n"
     ]
    },
    {
     "data": {
      "text/plain": [
       "stochastic_gradient_descent_until (generic function with 1 method)"
      ]
     },
     "execution_count": 472,
     "metadata": {},
     "output_type": "execute_result"
    }
   ],
   "source": [
    "function gradient_descent(x0, alpha, num_iters)\n",
    "    dist_to_optimum = zeros(num_iters) # Distance to optimimum is initialized\n",
    "    x = x0 # set x = initial x0\n",
    "    for t = 1:num_iters # set num_iters\n",
    "        dist_to_optimum[t] = norm(x) # the distance to optimum is the norm\n",
    "        x = x - alpha * grad_f(x) # this is running the simple GD equation without sampling\n",
    "    end\n",
    "    return dist_to_optimum\n",
    "end\n",
    "\n",
    "function stochastic_gradient_descent(x0, alpha, num_iters)\n",
    "    dist_to_optimum = zeros(num_iters) # Distance to optimium is initialized\n",
    "    x = x0 # set x = initial x0\n",
    "    for t = 1:num_iters # set num_iters\n",
    "        dist_to_optimum[t] = norm(x) # the distance to optimum is the norm\n",
    "        x = x - alpha * sample_grad_f(x) # this is the running the SGD\n",
    "    end\n",
    "    return dist_to_optimum\n",
    "end\n",
    "\n",
    "function stochastic_gradient_descent_until(x0, alpha, accuracy, num_iters)\n",
    "    x = x0\n",
    "    for t = 1:num_iters\n",
    "        x = x - alpha * sample_grad_f(x)\n",
    "        if norm(x) <= accuracy\n",
    "            return t\n",
    "        end\n",
    "    end\n",
    "    return num_iters\n",
    "end"
   ]
  },
  {
   "cell_type": "markdown",
   "metadata": {},
   "source": [
    "If we were to add SGD + VR\n",
    "$$x_{t+1} = x_t-\\alpha(\\nabla \\tilde f(x_t)-\\nabla \\tilde f( \\tilde x_t) + \\tilde \\mu)$$"
   ]
  },
  {
   "cell_type": "code",
   "execution_count": 526,
   "metadata": {
    "collapsed": false
   },
   "outputs": [
    {
     "name": "stderr",
     "output_type": "stream",
     "text": [
      "WARNING: Method definition stochastic_varience_reduced_gradient(Any, Any, Any, Any) in module Main at In[473]:4 overwritten at In[526]:4.\n",
      "WARNING: Method definition stochastic_varience_reduced_gradient(Any, Any, Any, Any, Any) in module Main at In[473]:4 overwritten at In[526]:4.\n",
      "WARNING: Method definition stochastic_varience_reduced_gradient_until(Any, Any, Any, Any, Any) in module Main at In[473]:19 overwritten at In[526]:19.\n",
      "WARNING: Method definition stochastic_varience_reduced_gradient_until(Any, Any, Any, Any, Any, Any) in module Main at In[473]:19 overwritten at In[526]:19.\n"
     ]
    },
    {
     "data": {
      "text/plain": [
       "stochastic_varience_reduced_gradient_until (generic function with 3 methods)"
      ]
     },
     "execution_count": 526,
     "metadata": {},
     "output_type": "execute_result"
    }
   ],
   "source": [
    "# Implementing SVRG\n",
    "function stochastic_varience_reduced_gradient(x0, alpha, num_epochs, num_iters, last=true)\n",
    "    # initial seeding of dist_to_optimum \n",
    "    dist_to_optimum = zeros(num_iters)\n",
    "    for e = 1:num_epochs # Run for num_epochs\n",
    "        x_star = last ? dist_to_optimum[end] : dist_to_optimum[rand(1:end)] # different option based on last\n",
    "        mu = mean(grad_f(dist_to_optimum)) # average across all grad_f(x) per epoch\n",
    "        x = e==1 ? x0 : x_star # set as x_star\n",
    "        for t = 1:num_iters # set num_iters\n",
    "            dist_to_optimum[t] = norm(x) # the distance to optimum is the norm\n",
    "            x = x - alpha * (sample_grad_f(x)-grad_f(x_star) + mu) # this is the running the SGD\n",
    "        end\n",
    "    end\n",
    "    return dist_to_optimum\n",
    "end\n",
    "\n",
    "function stochastic_varience_reduced_gradient_until(x0, alpha, num_epochs, num_iters, accuracy, last=true)\n",
    "    # initial seeding of dist_to_optimum \n",
    "    dist_to_optimum = zeros(num_iters)\n",
    "    for e = 1:num_epochs # Run for num_epochs\n",
    "        x_star = last ? dist_to_optimum[end] : dist_to_optimum[rand(1:end)] # different option based on last\n",
    "        mu = mean(grad_f(dist_to_optimum)) # average across all grad_f(x) per epoch\n",
    "        x = e==1 ? x0 : x_star # set as x_star\n",
    "        for t = 1:num_iters # set num_iters\n",
    "            dist_to_optimum[t] = norm(x) # the distance to optimum is the norm\n",
    "            x = x - alpha * (sample_grad_f(x)-grad_f(x_star) + mu) # this is the running the SGD\n",
    "            if norm(x) <= accuracy\n",
    "                return ((e-1)*t)+t\n",
    "            end\n",
    "        end\n",
    "    end\n",
    "    return (e-1)*t\n",
    "end"
   ]
  },
  {
   "cell_type": "code",
   "execution_count": 527,
   "metadata": {
    "collapsed": true
   },
   "outputs": [],
   "source": [
    "x0 = 5 * randn(1000);\n",
    "num_iters = 1000000;\n",
    "num_epochs = 3;\n",
    "accuracy = 1.0;"
   ]
  },
  {
   "cell_type": "code",
   "execution_count": 528,
   "metadata": {
    "collapsed": false
   },
   "outputs": [
    {
     "data": {
      "text/plain": [
       "true"
      ]
     },
     "execution_count": 528,
     "metadata": {},
     "output_type": "execute_result"
    }
   ],
   "source": [
    "stochastic_varience_reduced_gradient_until(x0,0.5,num_epochs,num_iters,accuracy)>=\n",
    "    stochastic_gradient_descent_until(x0,0.5,accuracy,num_iters)"
   ]
  },
  {
   "cell_type": "code",
   "execution_count": 529,
   "metadata": {
    "collapsed": false
   },
   "outputs": [
    {
     "name": "stderr",
     "output_type": "stream",
     "text": [
      "WARNING: Method definition stochastic_gradient_descent_diminishing(Any, Any) in module Main at In[502]:2 overwritten at In[529]:2.\n"
     ]
    },
    {
     "data": {
      "text/plain": [
       "stochastic_gradient_descent_diminishing (generic function with 1 method)"
      ]
     },
     "execution_count": 529,
     "metadata": {},
     "output_type": "execute_result"
    }
   ],
   "source": [
    "function stochastic_gradient_descent_diminishing(x0, num_iters)\n",
    "    dist_to_optimum = zeros(num_iters)\n",
    "    alphas = zeros(num_iters)\n",
    "    x = x0\n",
    "    mu = 1.0\n",
    "    M = 1.0\n",
    "    rho0 = norm(x0)^2\n",
    "    for t = 1:num_iters\n",
    "        alpha = (2 * mu * rho0) / (4 * M + mu^2 * rho0 * (t-1))\n",
    "        alphas[t] = alpha\n",
    "        dist_to_optimum[t] = norm(x)\n",
    "        x = x - alpha * sample_grad_f(x)\n",
    "    end\n",
    "    return (alphas, dist_to_optimum)\n",
    "end"
   ]
  },
  {
   "cell_type": "code",
   "execution_count": 532,
   "metadata": {
    "collapsed": false
   },
   "outputs": [],
   "source": [
    "x0 = randn(100) / 10;\n",
    "(alphas, dto_diminishing) = stochastic_gradient_descent_diminishing(x0, 10000);\n",
    "\n",
    "alpha1 = 0.5 * norm(x0)^2; # same as first step\n",
    "alpha2 = 2 / (4 + norm(x0)^2 * 100); # intermediate\n",
    "alpha3 = 2 / (4 + norm(x0)^2 * 1000); # same as last step\n",
    "\n",
    "dto1 = stochastic_gradient_descent(x0, alpha1, 10000);\n",
    "dto2 = stochastic_gradient_descent(x0, alpha2, 10000);\n",
    "dto3 = stochastic_gradient_descent(x0, alpha3, 10000);\n",
    "dto4 = stochastic_varience_reduced_gradient(x0, alpha1, 3, 10000);\n",
    "dto5 = stochastic_varience_reduced_gradient(x0, alpha2, 3, 10000);\n",
    "dto6 = stochastic_varience_reduced_gradient(x0, alpha3, 3, 10000);\n",
    "dto7 = stochastic_varience_reduced_gradient(x0, alpha1, 3, 10000, false);\n",
    "dto8 = stochastic_varience_reduced_gradient(x0, alpha2, 3, 10000, false);\n",
    "dto9 = stochastic_varience_reduced_gradient(x0, alpha3, 3, 10000, false);"
   ]
  },
  {
   "cell_type": "code",
   "execution_count": 533,
   "metadata": {
    "collapsed": false
   },
   "outputs": [
    {
     "data": {
      "image/png": "[encoded data removed]",
      "text/plain": [
       "PyPlot.Figure(PyObject <matplotlib.figure.Figure object at 0x32a14a250>)"
      ]
     },
     "metadata": {},
     "output_type": "display_data"
    }
   ],
   "source": [
    "plot(dto_diminishing, label=\"optimal\");\n",
    "# plot(dto1; label = \"SGD; alpha = $(signif(alpha1, 2))\");\n",
    "# plot(dto2; label = \"SGD; alpha = $(signif(alpha2, 2))\");\n",
    "plot(dto3; label = \"SGD; alpha = $(signif(alpha3, 2))\");\n",
    "# plot(dto4; label = \"SVRG OP1; alpha = $(signif(alpha1, 2))\");\n",
    "# plot(dto5; label = \"SVRG OP1; alpha = $(signif(alpha2, 2))\");\n",
    "plot(dto6; label = \"SVRG OP1; alpha = $(signif(alpha3, 2))\");\n",
    "# plot(dto7; label = \"SVRG OP2; alpha = $(signif(alpha1, 2))\");\n",
    "# plot(dto8; label = \"SVRG OP2; alpha = $(signif(alpha2, 2))\");\n",
    "plot(dto9; label = \"SVRG OP2; alpha = $(signif(alpha3, 2))\");\n",
    "xlabel(\"iteration\");\n",
    "ylabel(\"distance to optimum\");\n",
    "legend();"
   ]
  },
  {
   "cell_type": "code",
   "execution_count": null,
   "metadata": {
    "collapsed": true
   },
   "outputs": [],
   "source": []
  },
  {
   "cell_type": "code",
   "execution_count": null,
   "metadata": {
    "collapsed": true
   },
   "outputs": [],
   "source": []
  }
 ],
 "metadata": {
  "kernelspec": {
   "display_name": "Julia 0.5.1",
   "language": "julia",
   "name": "julia-0.5"
  },
  "language_info": {
   "file_extension": ".jl",
   "mimetype": "application/julia",
   "name": "julia",
   "version": "0.5.1"
  }
 },
 "nbformat": 4,
 "nbformat_minor": 2
}
